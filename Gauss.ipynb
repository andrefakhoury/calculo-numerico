{
 "cells": [
  {
   "cell_type": "markdown",
   "metadata": {},
   "source": [
    "# Eliminação de Gauss"
   ]
  },
  {
   "cell_type": "markdown",
   "metadata": {},
   "source": [
    "A cada passo k, procura-se zerar todos os elementos da coluna k abaixo da linha k (fazer ser triangular superior)"
   ]
  },
  {
   "cell_type": "markdown",
   "metadata": {},
   "source": [
    "### Resolvendo Ax = b"
   ]
  },
  {
   "cell_type": "markdown",
   "metadata": {},
   "source": [
    "Primeiramente, concatena-se $[A]$ e $[b]$, obtendo-se:\n",
    "\n",
    "$$\n",
    "\\begin{bmatrix}\n",
    "a_{11} & a_{12} & \\cdots & a_{1n} & | & b_1 \\\\\n",
    "a_{21} & a_{22} & \\cdots & a_{2n} & | & b_2 \\\\\n",
    "\\vdots & \\vdots & \\vdots & \\vdots & | & \\vdots \\\\\n",
    "a_{n1} & a_{n2} & \\cdots & a_{nn} & | & b_n \\\\\n",
    "\\end{bmatrix}\n",
    "$$\n",
    "\n",
    "Após isso, realizam-se operações com o objetivo de zerar os elementos da coluna $k$ abaixo da linha $k$."
   ]
  },
  {
   "cell_type": "code",
   "execution_count": 1,
   "metadata": {},
   "outputs": [],
   "source": [
    "import numpy as np"
   ]
  },
  {
   "cell_type": "code",
   "execution_count": 2,
   "metadata": {},
   "outputs": [],
   "source": [
    "def gauss_elimination(A, b):\n",
    "    C = np.concatenate((A, b.T), axis=1)\n",
    "    for k in range(C.shape[0]-1):\n",
    "        m = np.expand_dims(C[k+1:, k] / C[k, k], -1)\n",
    "        C[k+1:, k:] -= m @ np.expand_dims(C[k, k:], 0)\n",
    "    return C[:, :-1], C[:, -1]"
   ]
  },
  {
   "cell_type": "code",
   "execution_count": 3,
   "metadata": {},
   "outputs": [],
   "source": [
    "def solve_gauss(A, b):\n",
    "    A, b = gauss_elimination(A, b)\n",
    "    x = np.zeros(A.shape[0])\n",
    "    for i in range(A.shape[0]-1, -1, -1):\n",
    "        x[i] = (b[i] - np.dot(x, A[i, :])) / A[i, i]\n",
    "    return x"
   ]
  },
  {
   "cell_type": "code",
   "execution_count": 5,
   "metadata": {},
   "outputs": [
    {
     "name": "stdout",
     "output_type": "stream",
     "text": [
      "(array([[ 1.,  2.,  0.],\n",
      "       [ 0.,  1.,  1.],\n",
      "       [ 0.,  0., -3.]]), array([ 3.,  2., -3.]))\n"
     ]
    },
    {
     "data": {
      "text/plain": [
       "array([1., 1., 1.])"
      ]
     },
     "execution_count": 5,
     "metadata": {},
     "output_type": "execute_result"
    }
   ],
   "source": [
    "A = np.array([[1, 2, 0], [1, 3, 1], [-2, 0, 1]]).astype('float64')\n",
    "b = np.array([[3, 5, -1]]).astype('float64')\n",
    "print(gauss_elimination(A, b))\n",
    "solve_gauss(A, b)"
   ]
  },
  {
   "cell_type": "markdown",
   "metadata": {},
   "source": [
    "### Relação com a decomposição L.U"
   ]
  },
  {
   "cell_type": "markdown",
   "metadata": {},
   "source": [
    "Ao final da eliminação de Gauss, se consegue uma matriz superior, que será a **U**.\n",
    "\n",
    "Ou seja, temos:\n",
    "\n",
    "$$E_1 \\cdot E_2 \\cdots E_n \\cdot A = U$$\n",
    "\n",
    "Portanto:\n",
    "\n",
    "$$L = E_1^{-1} \\cdot E_2^{-1} \\cdots E_n^{-1}$$"
   ]
  },
  {
   "cell_type": "markdown",
   "metadata": {},
   "source": [
    "# Eliminação de Gauss com Pivoteamento Parcial"
   ]
  },
  {
   "cell_type": "markdown",
   "metadata": {},
   "source": [
    "1. A cada passo **K**, antes da etapa de eliminação, encontre *p* $\\in$ [k, n] tal que é o max da coluna\n",
    "2. Permutar as linhas p e k"
   ]
  },
  {
   "cell_type": "code",
   "execution_count": 6,
   "metadata": {},
   "outputs": [],
   "source": [
    "import numpy as np"
   ]
  },
  {
   "cell_type": "code",
   "execution_count": 17,
   "metadata": {},
   "outputs": [],
   "source": [
    "# def gauss_elimination(A, b):\n",
    "#     C = np.concatenate((A, b.T), axis=1)\n",
    "#     for k in range(C.shape[0]-1):\n",
    "#         m = np.expand_dims(C[k+1:, k] / C[k, k], -1)\n",
    "#         C[k+1:, k:] -= m @ np.expand_dims(C[k, k:], 0)\n",
    "#     return C[:, :-1], C[:, -1]\n",
    "\n",
    "def gauss_elimination_partial(A, b):\n",
    "    n = A.shape[0]\n",
    "    \n",
    "    C = np.concatenate((A, b.T), axis=1)\n",
    "    P = np.arange(n)\n",
    "    for k in range(n-1):\n",
    "        p = np.argmax(A[k:, k]) + k # A[p, k] is the maximum on array\n",
    "        if A[p,k] == 0:\n",
    "            raise Exception('Singular matrix')\n",
    "        P[[k, p]] = P[[p, k]]\n",
    "        C[[k, p]] = C[[p, k]] # swap rows\n",
    "        \n",
    "        m = np.expand_dims(C[k+1:, k] / C[k, k], -1)\n",
    "        C[k+1:, k:] -= m @ np.expand_dims(C[k, k:], 0)\n",
    "    return P, C[:, :-1], C[:, -1]"
   ]
  },
  {
   "cell_type": "code",
   "execution_count": 19,
   "metadata": {},
   "outputs": [],
   "source": [
    "def solve_gauss_partial(A, b):\n",
    "    _, A, b = gauss_elimination_partial(A, b)\n",
    "    x = np.zeros(A.shape[0])\n",
    "    for i in range(A.shape[0]-1, -1, -1):\n",
    "        x[i] = (b[i] - np.dot(x, A[i, :])) / A[i, i]\n",
    "    return x"
   ]
  },
  {
   "cell_type": "code",
   "execution_count": 33,
   "metadata": {
    "scrolled": true
   },
   "outputs": [
    {
     "name": "stdout",
     "output_type": "stream",
     "text": [
      "(array([0, 1, 2]), array([[ 1.,  2.,  0.],\n",
      "       [ 0.,  1.,  1.],\n",
      "       [ 0.,  0., -3.]]), array([ 3.,  2., -3.]))\n",
      "[1. 1. 1.]\n",
      "[1. 1. 1.]\n"
     ]
    }
   ],
   "source": [
    "A = np.array([[1, 2,0], [1, 3,1],[-2, 0,1]]).astype('float64')\n",
    "b = np.array([[3, 5, -1]]).astype('float64')\n",
    "\n",
    "print(gauss_elimination_partial(A, b))\n",
    "print(solve_gauss_partial(A, b))\n",
    "print(solve_gauss(A, b))"
   ]
  },
  {
   "cell_type": "markdown",
   "metadata": {},
   "source": [
    "### Como ficaria a decomposição L.U agora que sabemos fazer pivoteamento parcial?"
   ]
  },
  {
   "cell_type": "markdown",
   "metadata": {},
   "source": [
    "- P.A = L.U, onde P é uma matriz permutação"
   ]
  },
  {
   "cell_type": "markdown",
   "metadata": {},
   "source": [
    "### Resolvendo Ax = b"
   ]
  },
  {
   "cell_type": "markdown",
   "metadata": {},
   "source": [
    "$$(PA)x = (LU)x = Pb$$\n",
    "\n",
    "$$Ly = Pb$$\n",
    "\n",
    "$$Ux = y$$"
   ]
  }
 ],
 "metadata": {
  "kernelspec": {
   "display_name": "Python 3",
   "language": "python",
   "name": "python3"
  },
  "language_info": {
   "codemirror_mode": {
    "name": "ipython",
    "version": 3
   },
   "file_extension": ".py",
   "mimetype": "text/x-python",
   "name": "python",
   "nbconvert_exporter": "python",
   "pygments_lexer": "ipython3",
   "version": "3.7.4"
  }
 },
 "nbformat": 4,
 "nbformat_minor": 2
}
