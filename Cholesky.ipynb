{
 "cells": [
  {
   "cell_type": "code",
   "execution_count": 84,
   "metadata": {},
   "outputs": [],
   "source": [
    "import numpy as np"
   ]
  },
  {
   "cell_type": "markdown",
   "metadata": {},
   "source": [
    "# Gerando a matriz A e o vetor b\n",
    "Seja a matriz A e o vetor b das formas:\n",
    "\n",
    "$$A = \n",
    "\\begin{bmatrix}\n",
    "9 & -4 & 1 & 0 & \\cdots & \\cdots & 0\\\\\n",
    "-4 & 6 & -4 & 1 & \\ddots & & \\vdots\\\\\n",
    "1 & -4 & 6 & -4 & 1 & \\ddots & \\vdots\\\\\n",
    "0 & \\ddots & \\ddots & \\ddots & \\ddots & \\ddots & 0\\\\\n",
    "\\vdots & \\ddots & 1 & -4 & 6 & -4 & 1\\\\\n",
    "\\vdots & & \\ddots & 1 & -4 & 5 & -2\\\\\n",
    "0 & \\cdots & \\cdots & 0 & 1 & -2 & 1\\\\\n",
    "\\end{bmatrix}, b = \n",
    "\\begin{bmatrix}\n",
    "n^{-4}\\\\\n",
    "n^{-4}\\\\\n",
    "\\vdots\\\\\n",
    "\\vdots\\\\\n",
    "\\vdots\\\\\n",
    "n^{-4}\\\\\n",
    "n^{-4}\\\\\n",
    "\\end{bmatrix}\n",
    "$$"
   ]
  },
  {
   "cell_type": "code",
   "execution_count": 95,
   "metadata": {},
   "outputs": [],
   "source": [
    "# cria uma matriz A e um vetor b da forma pre-definida\n",
    "def generate_matrix(n=100):\n",
    "    A = np.zeros((n, n)) # cria matrix A nxn\n",
    "\n",
    "    # preenche as 5 diagonais\n",
    "    np.fill_diagonal(A, 6)\n",
    "    np.fill_diagonal(A[:-1, 1:], -4)\n",
    "    np.fill_diagonal(A[1:, :-1], -4)\n",
    "    np.fill_diagonal(A[:-2, 2:], 1)\n",
    "    np.fill_diagonal(A[2:, :-2], 1)\n",
    "\n",
    "    # preenche valores diferentes\n",
    "    A[0, 0] = 9\n",
    "    A[-1, -1] = 1\n",
    "    A[-2, -2] = 5\n",
    "    A[-2, -1] = -2\n",
    "    A[-1, -2] = -2\n",
    "    \n",
    "    # cria o vetor b\n",
    "    b = np.full((n, 1), n**-4)\n",
    "    \n",
    "    return A, b"
   ]
  },
  {
   "cell_type": "markdown",
   "metadata": {},
   "source": [
    "# Decomposição de Cholesky\n",
    "\n",
    "Uma matriz $A$ simétrica e definida positiva pode ser decomposta na forma:\n",
    "$$A = GG^T$$\n",
    "\n",
    "Em que $G$ é uma matriz triangular inferior.\n",
    "\n",
    "## A decomposição\n",
    "\n",
    "### Elementos diagonais\n",
    "\n",
    "$$\\begin{cases}\n",
    "g_{11} = \\sqrt{a_{11}} \\\\\n",
    "g_{ii} = \\sqrt{a_{ii} - \\sum_{k=1}^{i-1}g_{ik}^2}, i = 2, 3, \\cdots, n\\\\\n",
    "\\end{cases} $$\n",
    "\n",
    "### Elementos não diagonais\n",
    "\n",
    "$$\\begin{cases}\n",
    "g_{i1} = \\frac{a_{i1}}{g_{11}}, i = 2, 3, \\cdots, n\\\\\n",
    "g_{ij} = \\frac{a_{ij} - \\sum_{k=1}^{j-1}g_{ik}g_{jk}}{g_{jj}}, 2 < j < i\n",
    "\\end{cases} $$"
   ]
  },
  {
   "cell_type": "code",
   "execution_count": 88,
   "metadata": {},
   "outputs": [],
   "source": [
    "from math import sqrt"
   ]
  },
  {
   "cell_type": "code",
   "execution_count": 89,
   "metadata": {},
   "outputs": [],
   "source": [
    "def cholesky_decomposition(A):\n",
    "    G = np.zeros_like(A)\n",
    "    n = A.shape[0]\n",
    "    \n",
    "    G[0,0] = sqrt(A[0,0])\n",
    "    for i in range(1, n):\n",
    "        G[i,0] = A[i,0] / G[0,0]\n",
    "        for j in range(1, i):\n",
    "            sum = 0\n",
    "            for k in range(j):\n",
    "                sum += G[i,k]*G[j,k]\n",
    "            G[i,j] = A[i,j] - sum\n",
    "            G[i,j] /= G[j,j]\n",
    "        sum = 0\n",
    "        for k in range(i):\n",
    "            sum += G[i,k]**2\n",
    "        G[i,i] = sqrt(A[i,i] - sum)\n",
    "    return G"
   ]
  },
  {
   "cell_type": "code",
   "execution_count": 101,
   "metadata": {},
   "outputs": [],
   "source": [
    "# verifica se uma matriz é simétrica, com um erro definido\n",
    "def check_symmetric(a, rtol=1e-05, atol=1e-08):\n",
    "    return np.allclose(a, a.T, rtol=rtol, atol=atol)\n",
    "\n",
    "# verifica se a matriz é simétrica e definida positiva\n",
    "def check_cholesky(A):\n",
    "    return check_symmetric(A) and np.all(np.linalg.eigvals(A) > 0)"
   ]
  },
  {
   "cell_type": "code",
   "execution_count": 100,
   "metadata": {},
   "outputs": [
    {
     "name": "stdout",
     "output_type": "stream",
     "text": [
      "[[1.73205081 0.         0.        ]\n",
      " [2.30940108 1.63299316 0.        ]\n",
      " [1.73205081 1.22474487 2.12132034]]\n"
     ]
    }
   ],
   "source": [
    "A = np.array([[3, 4, 3], [4, 8, 6], [3, 6, 9]]).astype('float64')\n",
    "print(cholesky_decomposition(A))"
   ]
  },
  {
   "cell_type": "markdown",
   "metadata": {},
   "source": [
    "## Resolução de Sistemas\n",
    "\n",
    "Para resolver um sistema do tipo $Ax = b$ com decomposição de Cholesky, pode-se fazer como na decomposição L.U:\n",
    "\n",
    "$$Ax = b$$\n",
    "$$(GG^T)x = b$$\n",
    "$$Gy = b$$\n",
    "$$G^Tx = y$$\n",
    "\n",
    "De modo a simplificar as contas, afinal $G$ é uma matriz triangular inferior e $G^T$ uma matriz triangular superior."
   ]
  },
  {
   "cell_type": "code",
   "execution_count": 106,
   "metadata": {},
   "outputs": [],
   "source": [
    "# resolve A * x = b, em que A é uma matriz triangular inferior\n",
    "def lower_solve(A, b):\n",
    "    n = A.shape[0]\n",
    "    for k in range(1, n):\n",
    "        b[k] -= A[k, 0:k].dot(b[0:k])\n",
    "    return b\n",
    "\n",
    "# resolve A * x = b, em que A é uma matriz triangular superior\n",
    "def upper_solve(A, b):\n",
    "    n = A.shape[0]\n",
    "    for k in range(n-1, -1, -1):\n",
    "        b[k] -= A[k, k+1:n].dot(b[k+1:n])\n",
    "        b[k] /= A[k,k]\n",
    "    return b\n",
    "\n",
    "# resolve Ax = b por decomposição de cholesky\n",
    "def cholesky_solve(A, b):\n",
    "    G1 = cholesky_decomposition(A)\n",
    "    G2 = G1.T\n",
    "    \n",
    "    # divide em duas resoluções de sistema\n",
    "    y = lower_solve(G1, b)\n",
    "    x = upper_solve(G2, y)\n",
    "    \n",
    "    # retorna o resultado\n",
    "    return x"
   ]
  },
  {
   "cell_type": "code",
   "execution_count": 107,
   "metadata": {},
   "outputs": [],
   "source": [
    "A, b = generate_matrix()\n",
    "x = cholesky_solve(A, b)"
   ]
  },
  {
   "cell_type": "markdown",
   "metadata": {},
   "source": [
    "# Referências\n",
    "\n",
    "Decomposição de Cholesky: http://wwwp.fc.unesp.br/~arbalbo/Iniciacao_Cientifica/sistemaslineares/teoria/3_Met_Cholesky.pdf\n",
    "\n",
    "Teste de matriz simetrica em python: https://stackoverflow.com/questions/42908334/checking-if-a-matrix-is-symmetric-in-numpy"
   ]
  }
 ],
 "metadata": {
  "kernelspec": {
   "display_name": "Python 3",
   "language": "python",
   "name": "python3"
  },
  "language_info": {
   "codemirror_mode": {
    "name": "ipython",
    "version": 3
   },
   "file_extension": ".py",
   "mimetype": "text/x-python",
   "name": "python",
   "nbconvert_exporter": "python",
   "pygments_lexer": "ipython3",
   "version": "3.7.1"
  }
 },
 "nbformat": 4,
 "nbformat_minor": 2
}
