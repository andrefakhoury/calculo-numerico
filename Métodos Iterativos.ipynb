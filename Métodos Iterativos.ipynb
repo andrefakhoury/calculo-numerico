{
 "cells": [
  {
   "cell_type": "code",
   "execution_count": 275,
   "metadata": {},
   "outputs": [],
   "source": [
    "import numpy as np"
   ]
  },
  {
   "cell_type": "markdown",
   "metadata": {},
   "source": [
    "# Métodos iterativos\n",
    "Seja $Ax = b$ um sistema linear de ordem $n$, com $det(A) \\neq 0$."
   ]
  },
  {
   "cell_type": "markdown",
   "metadata": {},
   "source": [
    "### Objetivo\n",
    "Queremos definir um processo iterativo, de modo que a sequência de vetores {${x^{(0)}, x^{(1)}, x^{(2)}, \\cdots}$} produzida por este processo convirja para a solução $x$, independentemente do chute inicial $x^{(0)} \\in \\mathbb{R}^n$."
   ]
  },
  {
   "cell_type": "markdown",
   "metadata": {},
   "source": [
    "### Definição\n",
    "Uma sequência de vetores {${x^{(0)}, x^{(1)}, x^{(2)}, \\cdots}$} converge para um vetor $x$ se $\\lim_{k \\rightarrow +\\infty}{|| x^{(k)} - x ||} = 0$\n",
    "\n",
    "**Notação:** $x^{(k)} \\rightarrow x$"
   ]
  },
  {
   "cell_type": "markdown",
   "metadata": {},
   "source": [
    "### Ideia principal\n",
    "vamos criar um processo recursivo através de um sistema equivalente $Ax = b$\n",
    "\n",
    "1. Transformar $Ax = b$ em um sistema equivalente da forma $x = Cx + g$, em que $C \\in \\mathbb{M}_n(\\mathbb{R})$ e $g \\in \\mathbb{R}^n$ são conhecidos\n",
    "\n",
    "2. Dado um chute inicial $x^{(0)}$, obtemos uma sequência {${x^{(0)}, x^{(1)}, x^{(2)}, \\cdots}$}  através do processo iterativo $x^{(k+1)} = Cx^{(k)} + g$, com k = 0, 1, ..."
   ]
  },
  {
   "cell_type": "markdown",
   "metadata": {},
   "source": [
    "### Perguntas\n",
    "- Dado $Ax = b$ é possível obter um sistema equivalente $x = Cx + g$?\n",
    "  \n",
    "  Sim, por exemplo, basta tomar $C = I - A$ e $g = b$\n",
    "  \n",
    "  \n",
    "- Se $x^{(k)} \\rightarrow \\bar{x}$, então $\\bar{x}$ é solução de $Ax = b$?\n",
    "\n",
    "  Sim, pois passando o limite no processo iterativo $x^{(k+1)} = Cx^{(k)} + g$, temos $\\bar{x} = C\\bar{x} + g$. Como os sistemas são equivalentes, $\\bar{x} = x$, $A\\bar{x} = b$\n",
    "  \n",
    "  \n",
    "- Quando terminar o processo iterativo {${x^{(0)}, x^{(1)}, x^{(2)}, \\cdots}$}?\n",
    "  \n",
    "  Vários critérios, pela distância relativa entre os chutes, por um valor de iterações máximo, etc"
   ]
  },
  {
   "cell_type": "markdown",
   "metadata": {},
   "source": [
    "### Critérios de parada\n",
    "Dados $\\epsilon > 0$ e $K_{max} \\in \\mathbb{N}$\n",
    "\n",
    "#### Erro absoluto\n",
    "$$ || x^{(k+1)} - x^{(k)} || < \\epsilon $$\n",
    "\n",
    "#### Erro relativo\n",
    "$$ \\frac{|| x^{(k+1)} - x^{(k)} ||}{||x^{(k+1)}||} < \\epsilon $$\n",
    "\n",
    "#### Teste do resíduo\n",
    "$$ || b - Ax^{(k)}|| < \\epsilon $$\n",
    "\n",
    "#### Número máximo de iterações\n",
    "$$ while(k < K_{max}) $$"
   ]
  },
  {
   "cell_type": "markdown",
   "metadata": {},
   "source": [
    "## Convergência\n",
    "\n",
    "#### Definição (Raio espectral)\n",
    "Raio espectral de uma matriz $A \\in \\mathbb{M}_n(\\mathbb{R})$ é definido como $\\rho(A)$ = máx{ |$\\lambda_i$| }, onde $\\lambda_i$ são os autovalores de A.\n",
    "\n",
    "#### Teorema (Critério geral de convergência)\n",
    "Seja {${x^{(0)}, x^{(1)}, x^{(2)}, \\cdots}$} sequência gerada pelo processo iterativo $x^{(k+1)} = Cx^{(k)} + g$,\n",
    "\n",
    "1. Se $||C||_M < 1$, onde $||.||_m$ é uma norma consistente, então a sequência converge.\n",
    "\n",
    "2. $x^{(k)} \\rightarrow x \\iff \\rho(C) < 1$"
   ]
  },
  {
   "cell_type": "markdown",
   "metadata": {},
   "source": [
    "## Método de Gauss-Jacobi\n",
    "\n",
    "Dado $Ax = b$ e supondo sem perda de generalidade que $a_{ii} \\neq 0$, com $i = 1,\\cdots,n$, temos:\n",
    "\n",
    "$$\\begin{cases}\n",
    "a_{11}x_1 + a_{12}x_2 + \\cdots + a_{1n}x_n = b_1 \\\\\n",
    "a_{21}x_1 + a_{22}x_2 + \\cdots + a_{2n}x_n = b_2 \\\\\n",
    "\\vdots \\\\\n",
    "a_{n1}x_1 + a_{n2}x_2 + \\cdots + a_{nn}x_n = b_n \\\\\n",
    "\\end{cases} $$\n",
    "\n",
    "A forma do método de Gauss-Jacobi transforma $Ax = b$ em $x = Cx + g$ isolando cada coordenada $x_i$ do vetor $x$\n",
    "\n",
    "$$\\begin{cases}\n",
    "x^{(k+1)}_1 = \\frac{b_1 - a_{12}x^{(k)}_2 - a_{13}x^{(k)}_3 - \\cdots - a_{1n}x^{(k)}_n}{a_{11}} \\\\\n",
    "x^{(k+1)}_2 = \\frac{b_2 - a_{21}x^{(k)}_1 - a_{23}x^{(k)}_3 - \\cdots - a_{2n}x^{(k)}_n}{a_{22}} \\\\\n",
    "\\vdots \\\\\n",
    "x^{(k+1)}_n = \\frac{b_n - a_{n1}x^{(k)}_1 - a_{n2}x^{(k)}_2 - \\cdots - a_{n-1 n-1}x^{(k)}_{n-1}}{a_{nn}} \\\\\n",
    "\\end{cases} $$\n",
    "\n",
    "Desta forma, temos um sistema equivalente $x = Cx + g$ em que:\n",
    "\n",
    "$$C = \\begin{bmatrix}\n",
    "0 & -\\frac{a_{12}}{a_{11}} & \\cdots & -\\frac{a_{1n}}{a_{11}} \\\\\n",
    "-\\frac{a_{21}}{a_{22}} & 0 & \\vdots & -\\frac{a_{2n}}{a_{22}} \\\\\n",
    "\\vdots & \\ddots & \\ddots & \\vdots \\\\\n",
    "-\\frac{a_{n1}}{a_{nn}} & \\cdots & 0 & -\\frac{a_{2n}}{a_{22}} \\\\\n",
    "\\end{bmatrix}, g = \\begin{bmatrix}\n",
    "\\frac{b_1}{a_{11}} \\\\\n",
    "\\frac{b_2}{a_{22}} \\\\\n",
    "\\vdots \\\\\n",
    "\\frac{b_n}{a_{nn}} \\\\\n",
    "\\end{bmatrix}$$\n",
    "\n",
    "Vamos mostrar como obter $x^{(k+1)} = Cx^{(k)} + g$ a partir de $Ax = b$.\n",
    "\n",
    "Seja D uma matriz diagonal, formada pela diagonal de A.\n",
    "\n",
    "$$Ax = b \\iff (A + D - D)x = b \\iff (A - D)x + Dx = b$$\n",
    "\n",
    "Dessa forma,\n",
    "\n",
    "$$ (A - D)x^{(k)} + Dx^{(k+1)} = (D - A)x^{(k)} + b $$\n",
    "\n",
    "Portanto,\n",
    "\n",
    "$$ x^{(k+1)} = \\underbrace{(I - D^{-1}A)}_{C}x^{(k)} + \\underbrace{D^{-1}b}_{g} $$"
   ]
  },
  {
   "cell_type": "code",
   "execution_count": 276,
   "metadata": {},
   "outputs": [],
   "source": [
    "# Resolve o sistema $Ax = b$ pelo método interativo de Gauss-Jacobi e critério de parada do erro relativo\n",
    "def gauss_jacobi_solve(A, b, EPSILON=1e-8):\n",
    "    n = A.shape[0]\n",
    "    x = np.zeros_like(b) # x^{k+1}\n",
    "    _x = np.full(n, 1)   # x^{k}\n",
    "    \n",
    "    D = np.eye(n) * A    \n",
    "    D_i = np.linalg.inv(D)\n",
    "    I = np.eye(n)\n",
    "    \n",
    "    C = I - D_i @ A\n",
    "    g = D_i @ b\n",
    "    \n",
    "    while np.linalg.norm(x - _x)/np.linalg.norm(x) > EPSILON:\n",
    "        _x = x\n",
    "        x = C @ x + g\n",
    "\n",
    "    return x"
   ]
  },
  {
   "cell_type": "code",
   "execution_count": 277,
   "metadata": {},
   "outputs": [
    {
     "name": "stdout",
     "output_type": "stream",
     "text": [
      "[ 0.90740741  0.68518518 -0.05555555]\n"
     ]
    }
   ],
   "source": [
    "A = np.array([[8, 1, -1], [1, -7, 2], [2, 1, 9]]).astype('float64')\n",
    "b = np.array([8, -4, 2]).astype('float64')\n",
    "\n",
    "x = gauss_jacobi_solve(A, b)\n",
    "print(x)"
   ]
  },
  {
   "cell_type": "markdown",
   "metadata": {},
   "source": [
    "## Método de Gauss-Seidel\n",
    "\n",
    "Tentaremos agora acelerar a convergência do Método de Gauss-Jacobi. No cálculo de $x_i^{(k+1)}$, usaremos os valores já calculados $x_j^{(k+1)}, j < i$ os valores que ainda não foram calculados $x_j^{(k)}, j > i$.\n",
    "\n",
    "\n",
    "$$\\begin{cases}\n",
    "x^{(k+1)}_1 = \\frac{b_1 - a_{12}x^{(k)}_2 - a_{13}x^{(k)}_3 - \\cdots - a_{1n}x^{(k)}_n}{a_{11}} \\\\\n",
    "x^{(k+1)}_2 = \\frac{b_2 - a_{21}x^{(k+1)}_1 - a_{23}x^{(k)}_3 - \\cdots - a_{2n}x^{(k)}_n}{a_{22}} \\\\\n",
    "\\vdots \\\\\n",
    "x^{(k+1)}_n = \\frac{b_n - a_{n1}x^{(k+1)}_1 - a_{n2}x^{(k+1)}_2 - \\cdots - a_{n-1 n-1}x^{(k+1)}_{n-1}}{a_{nn}} \\\\\n",
    "\\end{cases} $$\n",
    "\n",
    "Para obter $x^{(k+1)} = Cx^{(k)} + g$ a partir de $Ax + b$, primeiramente consideremos $A = L + R$, em que $L$ é a matriz triangular inferior de $A$ e $R$ é a matriz triangular superior sem a diagonal principal. Assim:\n",
    "\n",
    "$$Ax = b \\iff (L+R)x = b \\iff Lx + Rx = b$$\n",
    "\n",
    "Dessa forma,\n",
    "$$Lx^{(k+1)} + Rx^{(k)} = b \\iff Lx^{(k+1)} = -Rx^{(k)} + b$$\n",
    "\n",
    "Portanto,\n",
    "\n",
    "$$ x^{(k+1)} = \\underbrace{(-L^{-1}R)}_{C}x^{(k)} + \\underbrace{L^{-1}b}_{g} $$"
   ]
  },
  {
   "cell_type": "code",
   "execution_count": 278,
   "metadata": {},
   "outputs": [],
   "source": [
    "# Resolve o sistema $Ax = b$ pelo método interativo de Gauss-Seidel e critério de parada do erro relativo\n",
    "def gauss_seidel_solve(A, b, EPSILON=1e-8):\n",
    "    n = A.shape[0]\n",
    "    x = np.zeros_like(b) # x^{k+1}\n",
    "    _x = np.full(n, 1)   # x^{k}\n",
    "    \n",
    "    L = np.tril(A)\n",
    "    R = np.triu(A, 1)\n",
    "    \n",
    "    L_i = np.linalg.inv(L)\n",
    "    C = -L_i @ R\n",
    "    g = L_i @ b\n",
    "    \n",
    "    while np.linalg.norm(x - _x)/np.linalg.norm(x) > EPSILON:\n",
    "        _x = x\n",
    "        x = C @ x + g\n",
    "        \n",
    "    return x"
   ]
  },
  {
   "cell_type": "code",
   "execution_count": 279,
   "metadata": {},
   "outputs": [
    {
     "name": "stdout",
     "output_type": "stream",
     "text": [
      "[ 0.90740741  0.68518519 -0.05555556]\n"
     ]
    }
   ],
   "source": [
    "A = np.array([[8, 1, -1], [1, -7, 2], [2, 1, 9]]).astype('float64')\n",
    "b = np.array([8, -4, 2]).astype('float64')\n",
    "\n",
    "x = gauss_seidel_solve(A, b)\n",
    "print(x)"
   ]
  }
 ],
 "metadata": {
  "kernelspec": {
   "display_name": "Python 3",
   "language": "python",
   "name": "python3"
  },
  "language_info": {
   "codemirror_mode": {
    "name": "ipython",
    "version": 3
   },
   "file_extension": ".py",
   "mimetype": "text/x-python",
   "name": "python",
   "nbconvert_exporter": "python",
   "pygments_lexer": "ipython3",
   "version": "3.7.1"
  }
 },
 "nbformat": 4,
 "nbformat_minor": 2
}
