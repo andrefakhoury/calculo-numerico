{
 "cells": [
  {
   "cell_type": "code",
   "execution_count": 27,
   "metadata": {},
   "outputs": [],
   "source": [
    "import numpy as np"
   ]
  },
  {
   "cell_type": "markdown",
   "metadata": {},
   "source": [
    "# Métodos iterativos\n",
    "Seja $Ax = b$ um sistema linear de ordem $n$, com $det(A) \\neq 0$."
   ]
  },
  {
   "cell_type": "markdown",
   "metadata": {},
   "source": [
    "### Objetivo\n",
    "Queremos definir um processo iterativo, de modo que a sequência de vetores {${x^{(0)}, x^{(1)}, x^{(2)}, \\cdots}$} produzida por este processo convirja para a solução $x$, independentemente do chute inicial $x^{(0)} \\in \\mathbb{R}^n$."
   ]
  },
  {
   "cell_type": "markdown",
   "metadata": {},
   "source": [
    "### Definição\n",
    "Uma sequência de vetores {${x^{(0)}, x^{(1)}, x^{(2)}, \\cdots}$} converge para um vetor $x$ se $\\lim_{k \\rightarrow +\\infty}{|| x^{(k)} - x ||} = 0$\n",
    "\n",
    "**Notação:** $x^{(k)} \\rightarrow x$"
   ]
  },
  {
   "cell_type": "markdown",
   "metadata": {},
   "source": [
    "### Ideia principal\n",
    "vamos criar um processo recursivo através de um sistema equivalente $Ax = b$\n",
    "\n",
    "1. Transformar $Ax = b$ em um sistema equivalente da forma $x = Cx + g$, em que $C \\in \\mathbb{M}_n(\\mathbb{R})$ e $g \\in \\mathbb{R}^n$ são conhecidos\n",
    "\n",
    "2. Dado um chute inicial $x^{(0)}$, obtemos uma sequência {${x^{(0)}, x^{(1)}, x^{(2)}, \\cdots}$}  através do processo iterativo $x^{(k+1)} = Cx^{(k)} + g$, com k = 0, 1, ..."
   ]
  },
  {
   "cell_type": "markdown",
   "metadata": {},
   "source": [
    "### Perguntas\n",
    "- Dado $Ax = b$ é possível obter um sistema equivalente $x = Cx + g$?\n",
    "  \n",
    "  Sim, por exemplo, basta tomar $C = I - A$ e $g = b$\n",
    "  \n",
    "  \n",
    "- Se $x^{(k)} \\rightarrow \\bar{x}$, então $\\bar{x}$ é solução de $Ax = b$?\n",
    "\n",
    "  Sim, pois passando o limite no processo iterativo $x^{(k+1)} = Cx^{(k)} + g$, temos $\\bar{x} = C\\bar{x} + g$. Como os sistemas são equivalentes, $\\bar{x} = x$, $A\\bar{x} = b$\n",
    "  \n",
    "  \n",
    "- Quando terminar o processo iterativo {${x^{(0)}, x^{(1)}, x^{(2)}, \\cdots}$}?\n",
    "  \n",
    "  Vários critérios, pela distância relativa entre os chutes, por um valor de iterações máximo, etc"
   ]
  },
  {
   "cell_type": "markdown",
   "metadata": {},
   "source": [
    "### Critérios de parada\n",
    "Dados $\\epsilon > 0$ e $K_{max} \\in \\mathbb{N}$\n",
    "\n",
    "#### Erro absoluto\n",
    "$$ || x^{(k+1)} - x^{(k)} || < \\epsilon $$\n",
    "\n",
    "#### Erro relativo\n",
    "$$ \\frac{|| x^{(k+1)} - x^{(k)} ||}{||x^{(k+1)}||} < \\epsilon $$\n",
    "\n",
    "#### Teste do resíduo\n",
    "$$ || b - Ax^{(k)}|| < \\epsilon $$\n",
    "\n",
    "#### Número máximo de iterações\n",
    "$$ while(k < K_{max}) $$"
   ]
  },
  {
   "cell_type": "markdown",
   "metadata": {},
   "source": [
    "## Convergência\n",
    "\n",
    "#### Definição (Raio espectral)\n",
    "Raio espectral de uma matriz $A \\in \\mathbb{M}_n(\\mathbb{R})$ é definido como $\\rho(A)$ = máx{ |$\\lambda_i$| }, onde $\\lambda_i$ são os autovalores de A.\n",
    "\n",
    "#### Teorema (Critério geral de convergência)\n",
    "Seja {${x^{(0)}, x^{(1)}, x^{(2)}, \\cdots}$} sequência gerada pelo processo iterativo $x^{(k+1)} = Cx^{(k)} + g$,\n",
    "\n",
    "1. Se $||C||_M < 1$, onde $||.||_m$ é uma norma consistente, então a sequência converge.\n",
    "\n",
    "2. $x^{(k)} \\rightarrow x \\iff \\rho(C) < 1$"
   ]
  },
  {
   "cell_type": "markdown",
   "metadata": {},
   "source": [
    "## Método de Gauss-Jacobi\n",
    "\n",
    "Dado $Ax = b$ e supondo sem perda de generalidade que $a_{ii} \\neq 0$, com $i = 1,\\cdots,n$, temos:\n",
    "\n",
    "$$\\begin{cases}\n",
    "a_{11}x_1 + a_{12}x_2 + \\cdots + a_{1n}x_n = b_1 \\\\\n",
    "a_{21}x_1 + a_{22}x_2 + \\cdots + a_{2n}x_n = b_2 \\\\\n",
    "\\vdots \\\\\n",
    "a_{n1}x_1 + a_{n2}x_2 + \\cdots + a_{nn}x_n = b_n \\\\\n",
    "\\end{cases} $$\n",
    "\n",
    "A forma do método de Gauss-Jacobi transforma $Ax = b$ em $x = Cx + g$ isolando cada coordenada $x_i$ do vetor $x$\n",
    "\n",
    "$$\\begin{cases}\n",
    "x^{(k+1)}_1 = \\frac{b_1 - a_{12}x^{(k)}_2 - a_{13}x^{(k)}_3 - \\cdots - a_{1n}x^{(k)}_n}{a_{11}} \\\\\n",
    "x^{(k+1)}_2 = \\frac{b_2 - a_{21}x^{(k)}_1 - a_{23}x^{(k)}_3 - \\cdots - a_{2n}x^{(k)}_n}{a_{22}} \\\\\n",
    "\\vdots \\\\\n",
    "x^{(k+1)}_n = \\frac{b_n - a_{n1}x^{(k)}_1 - a_{n2}x^{(k)}_2 - \\cdots - a_{n-1 n-1}x^{(k)}_{n-1}}{a_{nn}} \\\\\n",
    "\\end{cases} $$\n",
    "\n",
    "Desta forma, temos um sistema equivalente $x = Cx + g$ em que:\n",
    "\n",
    "$$C = \\begin{bmatrix}\n",
    "0 & -\\frac{a_{12}}{a_{11}} & \\cdots & -\\frac{a_{1n}}{a_{11}} \\\\\n",
    "-\\frac{a_{21}}{a_{22}} & 0 & \\vdots & -\\frac{a_{2n}}{a_{22}} \\\\\n",
    "\\vdots & \\ddots & \\ddots & \\vdots \\\\\n",
    "-\\frac{a_{n1}}{a_{nn}} & \\cdots & 0 & -\\frac{a_{2n}}{a_{22}} \\\\\n",
    "\\end{bmatrix}, g = \\begin{bmatrix}\n",
    "\\frac{b_1}{a_{11}} \\\\\n",
    "\\frac{b_2}{a_{22}} \\\\\n",
    "\\vdots \\\\\n",
    "\\frac{b_n}{a_{nn}} \\\\\n",
    "\\end{bmatrix}$$\n",
    "\n",
    "Vamos mostrar como obter $x^{(k+1)} = Cx^{(k)} + g$ a partir de $Ax = b$.\n",
    "\n",
    "Seja D uma matriz diagonal, formada pela diagonal de A.\n",
    "\n",
    "$$Ax = b \\iff (A + D - D)x = b \\iff (A - D)x + Dx = b$$\n",
    "\n",
    "Dessa forma,\n",
    "\n",
    "$$ (A - D)x^{(k)} + Dx^{(k+1)} = (D - A)x^{(k)} + b $$\n",
    "\n",
    "Portanto,\n",
    "\n",
    "$$ x^{(k+1)} = \\underbrace{(I - D^{-1}A)}_{C}x^{(k)} + \\underbrace{D^{-1}b}_{g} $$"
   ]
  },
  {
   "cell_type": "code",
   "execution_count": 28,
   "metadata": {},
   "outputs": [],
   "source": [
    "# Resolve o sistema $Ax = b$ pelo método interativo de Gauss-Jacobi e critério de parada do erro relativo\n",
    "def gauss_jacobi_solve(A, b, EPSILON=1e-8):\n",
    "    n = A.shape[0]\n",
    "    x = np.zeros_like(b) # x^{k+1}\n",
    "    _x = np.full(n, 1)   # x^{k}\n",
    "    \n",
    "    D = np.eye(n) * A    \n",
    "    D_i = np.linalg.inv(D)\n",
    "    I = np.eye(n)\n",
    "    \n",
    "    C = I - D_i @ A\n",
    "    g = D_i @ b\n",
    "    \n",
    "    while np.linalg.norm(x - _x)/np.linalg.norm(x) > EPSILON:\n",
    "        _x = x\n",
    "        x = C @ x + g\n",
    "\n",
    "    return x"
   ]
  },
  {
   "cell_type": "code",
   "execution_count": 29,
   "metadata": {},
   "outputs": [
    {
     "name": "stdout",
     "output_type": "stream",
     "text": [
      "[ 0.90740741  0.68518518 -0.05555555]\n"
     ]
    }
   ],
   "source": [
    "A = np.array([[8, 1, -1], [1, -7, 2], [2, 1, 9]]).astype('float64')\n",
    "b = np.array([8, -4, 2]).astype('float64')\n",
    "\n",
    "x = gauss_jacobi_solve(A, b)\n",
    "print(x)"
   ]
  },
  {
   "cell_type": "markdown",
   "metadata": {},
   "source": [
    "## Método de Gauss-Seidel\n",
    "\n",
    "Tentaremos agora acelerar a convergência do Método de Gauss-Jacobi. No cálculo de $x_i^{(k+1)}$, usaremos os valores já calculados $x_j^{(k+1)}, j < i$ os valores que ainda não foram calculados $x_j^{(k)}, j > i$.\n",
    "\n",
    "\n",
    "$$\\begin{cases}\n",
    "x^{(k+1)}_1 = \\frac{b_1 - a_{12}x^{(k)}_2 - a_{13}x^{(k)}_3 - \\cdots - a_{1n}x^{(k)}_n}{a_{11}} \\\\\n",
    "x^{(k+1)}_2 = \\frac{b_2 - a_{21}x^{(k+1)}_1 - a_{23}x^{(k)}_3 - \\cdots - a_{2n}x^{(k)}_n}{a_{22}} \\\\\n",
    "\\vdots \\\\\n",
    "x^{(k+1)}_n = \\frac{b_n - a_{n1}x^{(k+1)}_1 - a_{n2}x^{(k+1)}_2 - \\cdots - a_{n-1 n-1}x^{(k+1)}_{n-1}}{a_{nn}} \\\\\n",
    "\\end{cases} $$\n",
    "\n",
    "Para obter $x^{(k+1)} = Cx^{(k)} + g$ a partir de $Ax + b$, primeiramente consideremos $A = L + R$, em que $L$ é a matriz triangular inferior de $A$ e $R$ é a matriz triangular superior sem a diagonal principal. Assim:\n",
    "\n",
    "$$Ax = b \\iff (L+R)x = b \\iff Lx + Rx = b$$\n",
    "\n",
    "Dessa forma,\n",
    "$$Lx^{(k+1)} + Rx^{(k)} = b \\iff Lx^{(k+1)} = -Rx^{(k)} + b$$\n",
    "\n",
    "Portanto,\n",
    "\n",
    "$$ x^{(k+1)} = \\underbrace{(-L^{-1}R)}_{C}x^{(k)} + \\underbrace{L^{-1}b}_{g} $$"
   ]
  },
  {
   "cell_type": "code",
   "execution_count": 30,
   "metadata": {},
   "outputs": [],
   "source": [
    "# Resolve o sistema $Ax = b$ pelo método interativo de Gauss-Seidel e critério de parada do erro relativo\n",
    "def gauss_seidel_solve(A, b, EPSILON=1e-8):\n",
    "    n = A.shape[0]\n",
    "    x = np.zeros_like(b) # x^{k+1}\n",
    "    _x = np.full(n, 1)   # x^{k}\n",
    "    \n",
    "    L = np.tril(A)\n",
    "    R = np.triu(A, 1)\n",
    "    \n",
    "    L_i = np.linalg.inv(L)\n",
    "    C = -L_i @ R\n",
    "    g = L_i @ b\n",
    "    \n",
    "    while np.linalg.norm(x - _x)/np.linalg.norm(x) > EPSILON:\n",
    "        _x = x\n",
    "        x = C @ x + g\n",
    "        \n",
    "    return x"
   ]
  },
  {
   "cell_type": "code",
   "execution_count": 31,
   "metadata": {},
   "outputs": [
    {
     "name": "stdout",
     "output_type": "stream",
     "text": [
      "[ 0.90740741  0.68518519 -0.05555556]\n"
     ]
    }
   ],
   "source": [
    "A = np.array([[8, 1, -1], [1, -7, 2], [2, 1, 9]]).astype('float64')\n",
    "b = np.array([8, -4, 2]).astype('float64')\n",
    "\n",
    "x = gauss_seidel_solve(A, b)\n",
    "print(x)"
   ]
  },
  {
   "cell_type": "markdown",
   "metadata": {},
   "source": [
    "## Aplicações\n",
    "\n",
    "Suponha a seguinte placa, já em temperatura de equilíbrio. Ao discretizá-la com uma grade, qual o valor da temperatura nos pontos $x_i, i=1,2,3,4$ sendo que a temperatura em um ponto é a média da temperatura em seus vizinhos?\n",
    "\n",
    "![Grade](./img/grade_temperatura.png)\n",
    "\n",
    "$$\\begin{cases}\n",
    "x_1 = \\frac{20 + 25 + x_2 + x_3}{4}\\\\\n",
    "x_2 = \\frac{x_1 + 25 + 30 + x_4}{4}\\\\\n",
    "x_3 = \\frac{20 + x_1 + x_4 + 20}{4}\\\\\n",
    "x_4 = \\frac{x_3 + x_2 + 30 + 20}{4}\n",
    "\\end{cases} $$\n",
    "\n",
    "Disso, formamos o seguinte sistema de matrizes:\n",
    "\n",
    "$$\n",
    "\\begin{bmatrix}\n",
    "4 & -1 & -1 & 0\\\\\n",
    "-1 & 4 & 0 & -1\\\\\n",
    "-1 & 0 & 4 & -1\\\\\n",
    "0 & -1 & -1 & 4\n",
    "\\end{bmatrix}\n",
    "\\begin{bmatrix}\n",
    "x_1\\\\\n",
    "x_2\\\\\n",
    "x_3\\\\\n",
    "x_4\n",
    "\\end{bmatrix}\n",
    "= \\begin{bmatrix}\n",
    "45\\\\\n",
    "55\\\\\n",
    "40\\\\\n",
    "50\n",
    "\\end{bmatrix}\n",
    "$$\n",
    "\n",
    "Sua resolução pode ser feita da seguinte forma:"
   ]
  },
  {
   "cell_type": "code",
   "execution_count": 32,
   "metadata": {},
   "outputs": [
    {
     "name": "stdout",
     "output_type": "stream",
     "text": [
      "[23.12499993 25.62499997 21.87499997 24.37499998]\n"
     ]
    }
   ],
   "source": [
    "A = np.array([[4, -1, -1, 0], [-1, 4, 0, -1], [-1, 0, 4, -1], [0, -1, -1, 4]]).astype('float64')\n",
    "b = np.array([45, 55, 40, 50])\n",
    "print(gauss_seidel_solve(A, b))"
   ]
  },
  {
   "cell_type": "markdown",
   "metadata": {},
   "source": [
    "Dada uma placa quadrada de lado *[0, 1] × [0, 1]* metros, já com os valores de temperatura prescritos na fronteira. Faça uma função que calcule e visualize a distribuição de temperaturas nesta placa usando o Método de Gauss-Seidel e um grid de resolução n × n."
   ]
  },
  {
   "cell_type": "code",
   "execution_count": 33,
   "metadata": {},
   "outputs": [
    {
     "data": {
      "text/plain": [
       "array([23.12499993, 25.62499997, 21.87499997, 24.37499998])"
      ]
     },
     "execution_count": 33,
     "metadata": {},
     "output_type": "execute_result"
    }
   ],
   "source": [
    "# dado um par [i, j] retorna sua ordem (0, 1, 2, 3...)\n",
    "def get(i, j, n, m):\n",
    "    return j * n + i\n",
    "\n",
    "# sides sao os valores pre definidos [left, up, right, down]\n",
    "def placa_quadrada_solve(sides, n, m):\n",
    "    A = np.zeros((n*m, n*m))\n",
    "    b = np.zeros(n*m)\n",
    "    \n",
    "    # percorre todas as celulas preenchendo a matriz A ao procurar seus vizinhos\n",
    "    for i in range(n):\n",
    "        for j in range(m):\n",
    "            at = get(i, j, m, m)\n",
    "            A[at, at] = 4\n",
    "            \n",
    "            u = get(i-1, j, n, m)\n",
    "            d = get(i+1, j, n, m)\n",
    "            l = get(i, j-1, n, m)\n",
    "            r = get(i, j+1, n, m)\n",
    "            \n",
    "            if j-1 < 0:\n",
    "                b[at] += sides[0] # celula esquerda eh vizinha\n",
    "            else:\n",
    "                A[at, l] = -1\n",
    "                \n",
    "            if i-1 < 0:\n",
    "                b[at] += sides[1] # celula superior eh vizinha\n",
    "            else:\n",
    "                A[at, u] = -1\n",
    "                \n",
    "            if j+1 >= m:\n",
    "                b[at] += sides[2] # celular direita eh vizinha\n",
    "            else:\n",
    "                A[at, r] = -1\n",
    "                \n",
    "            if i+1 >= n:\n",
    "                b[at] += sides[3] # celula inferior eh vizinha\n",
    "            else:\n",
    "                A[at, d] = -1           \n",
    "    \n",
    "    return gauss_seidel_solve(A, b)\n",
    "        \n",
    "placa_quadrada_solve([25, 20, 20, 30], 2, 2)"
   ]
  }
 ],
 "metadata": {
  "kernelspec": {
   "display_name": "Python 3",
   "language": "python",
   "name": "python3"
  },
  "language_info": {
   "codemirror_mode": {
    "name": "ipython",
    "version": 3
   },
   "file_extension": ".py",
   "mimetype": "text/x-python",
   "name": "python",
   "nbconvert_exporter": "python",
   "pygments_lexer": "ipython3",
   "version": "3.7.1"
  }
 },
 "nbformat": 4,
 "nbformat_minor": 2
}
