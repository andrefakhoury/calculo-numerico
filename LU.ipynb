{
 "cells": [
  {
   "cell_type": "markdown",
   "metadata": {},
   "source": [
    "# Decomposição L.U\n",
    "\n",
    "A decomposição L.U tem o objetivo de decompôr uma matriz $A$ em duas matrizes triangulares, uma superior e uma inferior. Assim, denomina-se L.U (lower upper) este processo.\n",
    "\n",
    "Entrada: matriz *A*\n",
    "\n",
    "Saída: matrizes *L* (lower triangular) e *U* (upper triangular)"
   ]
  },
  {
   "cell_type": "markdown",
   "metadata": {},
   "source": [
    "### Resoluções de sistemas lineares\n",
    "\n",
    "Para resolver sistemas L.U do tipo $Ax = b$, podemos fazer o seguinte:\n",
    "\n",
    "$$Ax = b$$\n",
    "$$(LU)x = b$$\n",
    "$$Ly = b$$\n",
    "$$Ux = y$$"
   ]
  },
  {
   "cell_type": "code",
   "execution_count": 2,
   "metadata": {},
   "outputs": [],
   "source": [
    "import numpy as np"
   ]
  },
  {
   "cell_type": "code",
   "execution_count": 15,
   "metadata": {},
   "outputs": [],
   "source": [
    "def lu_decomposition(A):\n",
    "    n = A.shape[0]\n",
    "    \n",
    "    U = np.zeros_like(A)\n",
    "    L = np.zeros_like(A)\n",
    "    \n",
    "    for j in range(n):\n",
    "        L[j][j] = 1.0\n",
    "        \n",
    "        for i in range(j+1):\n",
    "            sum = 0\n",
    "            for k in range(i):\n",
    "                sum += U[k][j] * L[i][k]\n",
    "            U[i][j] = A[i][j] - sum\n",
    "        \n",
    "        for i in range(j, n):\n",
    "            sum = 0\n",
    "            for k in range(j):\n",
    "                sum += U[k][j] * L[i][k]\n",
    "            L[i][j] = (A[i][j] - sum) / U[j][j]\n",
    "    \n",
    "    return L, U"
   ]
  },
  {
   "cell_type": "code",
   "execution_count": 16,
   "metadata": {},
   "outputs": [],
   "source": [
    "def lu_decomposition_partial_pivot(A):\n",
    "    n = A.shape[0]\n",
    "    \n",
    "    U = np.zeros_like(A)\n",
    "    L = np.zeros_like(A)\n",
    "    P = np.arange(n)\n",
    "    \n",
    "    for j in range(n):\n",
    "        L[j][j] = 1.0\n",
    "        \n",
    "        p = np.argmax(A[j:, j]) + j # A[p, j] is the maximum on array\n",
    "        if A[p,j] == 0:\n",
    "            raise Exception('Singular matrix')\n",
    "            \n",
    "        P[[j, p]] = P[[p, j]]\n",
    "        A[[j, p]] = A[[p, j]] # swap rows\n",
    "        \n",
    "        for i in range(j+1):\n",
    "            sum = 0\n",
    "            for k in range(i):\n",
    "                sum += U[k][j] * L[i][k]\n",
    "            U[i][j] = A[i][j] - sum\n",
    "        \n",
    "        for i in range(j, n):\n",
    "            sum = 0\n",
    "            for k in range(j):\n",
    "                sum += U[k][j] * L[i][k]\n",
    "            L[i][j] = (A[i][j] - sum) / U[j][j]\n",
    "    \n",
    "    return P, L, U"
   ]
  },
  {
   "cell_type": "code",
   "execution_count": 17,
   "metadata": {},
   "outputs": [],
   "source": [
    "# A * x = b, em que A é uma matriz triangular inferior\n",
    "def lower_solve(A, b):\n",
    "    n = A.shape[0]\n",
    "    for k in range(1, n):\n",
    "        b[k] -= A[k, 0:k].dot(b[0:k])\n",
    "    return b"
   ]
  },
  {
   "cell_type": "code",
   "execution_count": 18,
   "metadata": {},
   "outputs": [],
   "source": [
    "# A * x = b, em que A é uma matriz triangular superior\n",
    "def upper_solve(A, b):\n",
    "    n = A.shape[0]\n",
    "    for k in range(n-1, -1, -1):\n",
    "        b[k] -= A[k, k+1:n].dot(b[k+1:n])\n",
    "        b[k] /= A[k,k]\n",
    "    return b"
   ]
  },
  {
   "cell_type": "code",
   "execution_count": 19,
   "metadata": {},
   "outputs": [],
   "source": [
    "def lu_solve(A, b):\n",
    "    L, U = lu_decomposition(A)\n",
    "    y = lower_solve(L, b)\n",
    "    x = upper_solve(U, y)\n",
    "    return x"
   ]
  },
  {
   "cell_type": "code",
   "execution_count": 20,
   "metadata": {},
   "outputs": [],
   "source": [
    "def lu_solve_partial_pivot(A, b):\n",
    "    _, L, U = lu_decomposition_partial_pivot(A)\n",
    "    y = lower_solve(L, b)\n",
    "    x = upper_solve(U, y)\n",
    "    return x"
   ]
  },
  {
   "cell_type": "code",
   "execution_count": 21,
   "metadata": {},
   "outputs": [
    {
     "name": "stdout",
     "output_type": "stream",
     "text": [
      "[1 2 0]\n",
      "[[ 1.          0.          0.        ]\n",
      " [ 0.5         1.          0.        ]\n",
      " [ 0.5        -0.33333333  1.        ]]\n",
      "[[2.  5.  3. ]\n",
      " [0.  1.5 7.5]\n",
      " [0.  0.  2. ]]\n"
     ]
    }
   ],
   "source": [
    "A = np.array([[1, 2, 1], [2, 5, 3],[1, 4, 9]]).astype('float64')\n",
    "b = np.array([3,5,-1]).astype('float64')\n",
    "\n",
    "P, L, U = lu_decomposition_partial_pivot(A)\n",
    "print(P)\n",
    "print(L)\n",
    "print(U)"
   ]
  },
  {
   "cell_type": "code",
   "execution_count": 22,
   "metadata": {},
   "outputs": [
    {
     "name": "stdout",
     "output_type": "stream",
     "text": [
      "[[ 1.  0.  0.]\n",
      " [ 1.  1.  0.]\n",
      " [-2.  4.  1.]]\n",
      "[[ 1.  2.  0.]\n",
      " [ 0.  1.  1.]\n",
      " [ 0.  0. -3.]]\n",
      "[1. 1. 1.]\n"
     ]
    }
   ],
   "source": [
    "A = np.array([[1, 2,0], [1, 3,1],[-2, 0,1]]).astype('float64')\n",
    "b = np.array([3,5,-1]).astype('float64')\n",
    "\n",
    "L, U = lu_decomposition(A)\n",
    "print(L)\n",
    "print(U)\n",
    "print(lu_solve(A, b))"
   ]
  },
  {
   "cell_type": "code",
   "execution_count": null,
   "metadata": {},
   "outputs": [],
   "source": []
  }
 ],
 "metadata": {
  "kernelspec": {
   "display_name": "Python 3",
   "language": "python",
   "name": "python3"
  },
  "language_info": {
   "codemirror_mode": {
    "name": "ipython",
    "version": 3
   },
   "file_extension": ".py",
   "mimetype": "text/x-python",
   "name": "python",
   "nbconvert_exporter": "python",
   "pygments_lexer": "ipython3",
   "version": "3.7.1"
  }
 },
 "nbformat": 4,
 "nbformat_minor": 2
}
