{
 "cells": [
  {
   "cell_type": "markdown",
   "metadata": {},
   "source": [
    "# Cálculo da inversa de uma matriz"
   ]
  },
  {
   "cell_type": "markdown",
   "metadata": {},
   "source": [
    "Seja A $\\in$ $\\mathbb{M}_n(\\mathbb{R})$\n",
    "\n",
    "$$A^{-1} = [v_1 v_2 \\cdots v_n]$$\n",
    "Em que $v_k$ são as colunas da matriz inversa.\n",
    "\n",
    "Assim,\n",
    "\n",
    "$$A A^{-1} = I$$\n",
    "\n",
    "$$A\\begin{bmatrix}\n",
    "v_1 & v_2 & \\cdots & v_n \\\\\n",
    "\\end{bmatrix} = \\begin{bmatrix}\n",
    "1 & 0 & \\cdots & 0 \\\\\n",
    "0 & 1 & \\cdots & 0 \\\\\n",
    "e_1 & e_2 & \\cdots & e_n \\\\\n",
    "\\vdots & \\cdots & \\ddots & \\vdots \\\\\n",
    "0 & 0 & \\cdots & 1\\\\\\\n",
    "\\end{bmatrix}$$\n",
    "\n",
    "Logo, basta resolver $n$ sistemas lineares $A \\cdot v_i = e_i$, $i = 1, \\cdots, n$\n",
    "\n",
    "Por exemplo, com $n = 3$, podemos resolver a primeira coluna da matriz inversa da seguinte forma:\n",
    "\n",
    "$$\\begin{bmatrix}\n",
    "A_{11} & A_{12} & A_{13} \\\\\n",
    "A_{21} & A_{22} & A_{23} \\\\\n",
    "A_{31} & A_{32} & A_{33} \\\\\n",
    "\\end{bmatrix} \\begin{bmatrix}\n",
    "a^{'}_{11} \\\\\n",
    "a^{'}_{21} \\\\\n",
    "a^{'}_{31} \\\\\n",
    "\\end{bmatrix} = \\begin{bmatrix}\n",
    "1 \\\\\n",
    "0 \\\\\n",
    "0 \\\\\n",
    "\\end{bmatrix}$$\n",
    "\n",
    "De forma análoga, para resolver a segunda coluna, calculamos o resultado de $Av^{'}_2 = [0, 1, 0]^T$, e assim por diante."
   ]
  },
  {
   "cell_type": "code",
   "execution_count": 2,
   "metadata": {},
   "outputs": [],
   "source": [
    "import numpy as np\n",
    "from ipynb.fs.full.LU import *"
   ]
  },
  {
   "cell_type": "code",
   "execution_count": 3,
   "metadata": {},
   "outputs": [],
   "source": [
    "def inverse_matrix(A):\n",
    "    n = A.shape[0]\n",
    "    \n",
    "    Inv = np.zeros_like(A)\n",
    "    Id = np.eye(n)\n",
    "    \n",
    "    for k in range(0, n):\n",
    "        Inv[:, k] = lu_solve_partial_pivot(A, Id[:, k])\n",
    "    \n",
    "    return Inv"
   ]
  },
  {
   "cell_type": "code",
   "execution_count": 8,
   "metadata": {},
   "outputs": [
    {
     "name": "stdout",
     "output_type": "stream",
     "text": [
      "[[-1.          0.66666667 -0.66666667]\n",
      " [ 1.         -0.33333333  0.33333333]\n",
      " [-2.          1.33333333 -0.33333333]]\n",
      "[[-1.          0.66666667 -0.66666667]\n",
      " [ 1.         -0.33333333  0.33333333]\n",
      " [-2.          1.33333333 -0.33333333]]\n"
     ]
    }
   ],
   "source": [
    "A = np.array([[1, 2, 0], [1, 3, 1], [-2, 0, 1]]).astype('float64')\n",
    "print(inverse_matrix(A))\n",
    "\n",
    "print(np.linalg.inv(A)) # caso queira comparar com o correto"
   ]
  },
  {
   "cell_type": "code",
   "execution_count": null,
   "metadata": {},
   "outputs": [],
   "source": []
  }
 ],
 "metadata": {
  "kernelspec": {
   "display_name": "Python 3",
   "language": "python",
   "name": "python3"
  },
  "language_info": {
   "codemirror_mode": {
    "name": "ipython",
    "version": 3
   },
   "file_extension": ".py",
   "mimetype": "text/x-python",
   "name": "python",
   "nbconvert_exporter": "python",
   "pygments_lexer": "ipython3",
   "version": "3.6.7"
  }
 },
 "nbformat": 4,
 "nbformat_minor": 2
}
