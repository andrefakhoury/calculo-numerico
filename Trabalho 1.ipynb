{
 "cells": [
  {
   "cell_type": "markdown",
   "metadata": {},
   "source": [
    "# Gerando a matriz A e o vetor b\n",
    "Seja a matriz A e o vetor b das formas:\n",
    "\n",
    "$$A = \n",
    "\\begin{bmatrix}\n",
    "9 & -4 & 1 & 0 & \\cdots & \\cdots & 0\\\\\n",
    "-4 & 6 & -4 & 1 & \\ddots & & \\vdots\\\\\n",
    "1 & -4 & 6 & -4 & 1 & \\ddots & \\vdots\\\\\n",
    "0 & \\ddots & \\ddots & \\ddots & \\ddots & \\ddots & 0\\\\\n",
    "\\vdots & \\ddots & 1 & -4 & 6 & -4 & 1\\\\\n",
    "\\vdots & & \\ddots & 1 & -4 & 5 & -2\\\\\n",
    "0 & \\cdots & \\cdots & 0 & 1 & -2 & 1\\\\\n",
    "\\end{bmatrix}, b = \n",
    "\\begin{bmatrix}\n",
    "n^{-4}\\\\\n",
    "n^{-4}\\\\\n",
    "\\vdots\\\\\n",
    "\\vdots\\\\\n",
    "\\vdots\\\\\n",
    "n^{-4}\\\\\n",
    "n^{-4}\\\\\n",
    "\\end{bmatrix}\n",
    "$$\n",
    "\n",
    "Podemos gerá-los para um $n$ qualquer da seguinte forma:"
   ]
  },
  {
   "cell_type": "code",
   "execution_count": 1,
   "metadata": {},
   "outputs": [],
   "source": [
    "import numpy as np"
   ]
  },
  {
   "cell_type": "code",
   "execution_count": 2,
   "metadata": {},
   "outputs": [],
   "source": [
    "# cria uma matriz A e um vetor b da forma pre-definida\n",
    "def generate_matrix(n=100):\n",
    "    A = np.zeros((n, n)) # cria matrix A nxn\n",
    "\n",
    "    # preenche as 5 diagonais\n",
    "    np.fill_diagonal(A, 6)\n",
    "    np.fill_diagonal(A[:-1, 1:], -4)\n",
    "    np.fill_diagonal(A[1:, :-1], -4)\n",
    "    np.fill_diagonal(A[:-2, 2:], 1)\n",
    "    np.fill_diagonal(A[2:, :-2], 1)\n",
    "\n",
    "    # preenche valores diferentes\n",
    "    A[0, 0] = 9\n",
    "    A[-1, -1] = 1\n",
    "    A[-2, -2] = 5\n",
    "    A[-2, -1] = -2\n",
    "    A[-1, -2] = -2\n",
    "    \n",
    "    # cria o vetor b\n",
    "    b = np.full((n, 1), n**-4)\n",
    "    \n",
    "    return A, b"
   ]
  },
  {
   "cell_type": "markdown",
   "metadata": {},
   "source": [
    "# Decomposição de Cholesky\n",
    "\n",
    "Uma matriz $A$ simétrica e definida positiva pode ser decomposta na forma:\n",
    "$$A = GG^T$$\n",
    "\n",
    "Em que $G$ é uma matriz triangular inferior.\n",
    "\n",
    "## A decomposição\n",
    "\n",
    "### Elementos diagonais\n",
    "\n",
    "$$\\begin{cases}\n",
    "g_{11} = \\sqrt{a_{11}} \\\\\n",
    "g_{ii} = \\sqrt{a_{ii} - \\sum_{k=1}^{i-1}g_{ik}^2}, i = 2, 3, \\cdots, n\\\\\n",
    "\\end{cases} $$\n",
    "\n",
    "### Elementos não diagonais\n",
    "\n",
    "$$\\begin{cases}\n",
    "g_{i1} = \\frac{a_{i1}}{g_{11}}, i = 2, 3, \\cdots, n\\\\\n",
    "g_{ij} = \\frac{a_{ij} - \\sum_{k=1}^{j-1}g_{ik}g_{jk}}{g_{jj}}, 2 < j < i\n",
    "\\end{cases} $$"
   ]
  },
  {
   "cell_type": "code",
   "execution_count": 3,
   "metadata": {},
   "outputs": [],
   "source": [
    "from math import sqrt"
   ]
  },
  {
   "cell_type": "code",
   "execution_count": 4,
   "metadata": {},
   "outputs": [],
   "source": [
    "def cholesky_decomposition(A):\n",
    "    G = np.zeros_like(A)\n",
    "    n = A.shape[0]\n",
    "    \n",
    "    G[0,0] = sqrt(A[0,0])\n",
    "    for i in range(1, n):\n",
    "        G[i,0] = A[i,0] / G[0,0]\n",
    "        for j in range(1, i):\n",
    "            sum = 0\n",
    "            for k in range(j):\n",
    "                sum += G[i,k]*G[j,k]\n",
    "            G[i,j] = A[i,j] - sum\n",
    "            G[i,j] /= G[j,j]\n",
    "        sum = 0\n",
    "        for k in range(i):\n",
    "            sum += G[i,k]**2\n",
    "        G[i,i] = sqrt(A[i,i] - sum)\n",
    "    return G"
   ]
  },
  {
   "cell_type": "markdown",
   "metadata": {},
   "source": [
    "### Verificação\n",
    "\n",
    "Para uma matriz ser decomposta pela decomposição de Cholesky, ela deve ser simétrica e definida positiva. Podemos testar isso da seguinte forma:"
   ]
  },
  {
   "cell_type": "code",
   "execution_count": 5,
   "metadata": {},
   "outputs": [],
   "source": [
    "# verifica se uma matriz é simétrica, com um erro definido\n",
    "def check_symmetric(a, rtol=1e-05, atol=1e-08):\n",
    "    return np.allclose(a, a.T, rtol=rtol, atol=atol)\n",
    "\n",
    "# verifica se a matriz é simétrica e definida positiva\n",
    "def check_cholesky(A):\n",
    "    return check_symmetric(A) and np.all(np.linalg.eigvals(A) > 0)"
   ]
  },
  {
   "cell_type": "markdown",
   "metadata": {},
   "source": [
    "## Resolução de Sistemas\n",
    "\n",
    "Para resolver um sistema do tipo $Ax = b$ com decomposição de Cholesky, pode-se fazer como na decomposição L.U:\n",
    "\n",
    "$$Ax = b\\\\\n",
    "(GG^T)x = b\\\\\n",
    "Gy = b\\\\\n",
    "G^Tx = y$$\n",
    "\n",
    "De modo a simplificar as contas, afinal $G$ é uma matriz triangular inferior e $G^T$ uma matriz triangular superior."
   ]
  },
  {
   "cell_type": "code",
   "execution_count": 6,
   "metadata": {},
   "outputs": [],
   "source": [
    "# resolve A * x = b, em que A é uma matriz triangular inferior\n",
    "def lower_solve(A, b):\n",
    "    n = A.shape[0]\n",
    "    for k in range(1, n):\n",
    "        b[k] -= A[k, 0:k].dot(b[0:k])\n",
    "    return b\n",
    "\n",
    "# resolve A * x = b, em que A é uma matriz triangular superior\n",
    "def upper_solve(A, b):\n",
    "    n = A.shape[0]\n",
    "    for k in range(n-1, -1, -1):\n",
    "        b[k] -= A[k, k+1:n].dot(b[k+1:n])\n",
    "        b[k] /= A[k,k]\n",
    "    return b\n",
    "\n",
    "# resolve Ax = b por decomposição de cholesky\n",
    "def cholesky_solve(A, b):\n",
    "    G1 = cholesky_decomposition(A)\n",
    "    G2 = G1.T\n",
    "    \n",
    "    # divide em duas resoluções de sistema\n",
    "    y = lower_solve(G1, b)\n",
    "    x = upper_solve(G2, y)\n",
    "    \n",
    "    # retorna o resultado\n",
    "    return x"
   ]
  },
  {
   "cell_type": "markdown",
   "metadata": {},
   "source": [
    "Dessa forma, o sistema enunciado previamente pode ser resolvido."
   ]
  },
  {
   "cell_type": "code",
   "execution_count": 7,
   "metadata": {},
   "outputs": [],
   "source": [
    "A, b = generate_matrix()\n",
    "x_cholesky = cholesky_solve(A, b)"
   ]
  },
  {
   "cell_type": "markdown",
   "metadata": {},
   "source": [
    "# Métodos Interativos"
   ]
  },
  {
   "cell_type": "markdown",
   "metadata": {},
   "source": [
    "### Objetivo\n",
    "Queremos definir um processo iterativo, de modo que a sequência de vetores {${x^{(0)}, x^{(1)}, x^{(2)}, \\cdots}$} produzida por este processo convirja para a solução $x$, independentemente do chute inicial $x^{(0)} \\in \\mathbb{R}^n$."
   ]
  },
  {
   "cell_type": "markdown",
   "metadata": {},
   "source": [
    "### Critérios de Parada\n",
    "\n",
    "Podem ser escolhidos diversos critérios de parada. Dados $\\epsilon > 0$ e $K_{max} \\in \\mathbb{N}$\n",
    "\n",
    "#### Erro absoluto\n",
    "$$ || x^{(k+1)} - x^{(k)} || < \\epsilon $$\n",
    "\n",
    "#### Erro relativo\n",
    "$$ \\frac{|| x^{(k+1)} - x^{(k)} ||}{||x^{(k+1)}||} < \\epsilon $$\n",
    "\n",
    "#### Teste do resíduo\n",
    "$$ || b - Ax^{(k)}|| < \\epsilon $$\n",
    "\n",
    "#### Número máximo de iterações\n",
    "$$ while(k < K_{max}) $$"
   ]
  },
  {
   "cell_type": "markdown",
   "metadata": {},
   "source": [
    "## Método de Gauss-Jacobi\n",
    "\n",
    "Dado $Ax = b$ e supondo sem perda de generalidade que $a_{ii} \\neq 0$, com $i = 1,\\cdots,n$, temos:\n",
    "\n",
    "$$\\begin{cases}\n",
    "a_{11}x_1 + a_{12}x_2 + \\cdots + a_{1n}x_n = b_1 \\\\\n",
    "a_{21}x_1 + a_{22}x_2 + \\cdots + a_{2n}x_n = b_2 \\\\\n",
    "\\vdots \\\\\n",
    "a_{n1}x_1 + a_{n2}x_2 + \\cdots + a_{nn}x_n = b_n \\\\\n",
    "\\end{cases} $$\n",
    "\n",
    "A forma do método de Gauss-Jacobi transforma $Ax = b$ em $x = Cx + g$ isolando cada coordenada $x_i$ do vetor $x$\n",
    "\n",
    "$$\\begin{cases}\n",
    "x^{(k+1)}_1 = \\frac{b_1 - a_{12}x^{(k)}_2 - a_{13}x^{(k)}_3 - \\cdots - a_{1n}x^{(k)}_n}{a_{11}} \\\\\n",
    "x^{(k+1)}_2 = \\frac{b_2 - a_{21}x^{(k)}_1 - a_{23}x^{(k)}_3 - \\cdots - a_{2n}x^{(k)}_n}{a_{22}} \\\\\n",
    "\\vdots \\\\\n",
    "x^{(k+1)}_n = \\frac{b_n - a_{n1}x^{(k)}_1 - a_{n2}x^{(k)}_2 - \\cdots - a_{n-1 n-1}x^{(k)}_{n-1}}{a_{nn}} \\\\\n",
    "\\end{cases} $$\n",
    "\n",
    "Desta forma, temos um sistema equivalente $x = Cx + g$ em que:\n",
    "\n",
    "$$C = \\begin{bmatrix}\n",
    "0 & -\\frac{a_{12}}{a_{11}} & \\cdots & -\\frac{a_{1n}}{a_{11}} \\\\\n",
    "-\\frac{a_{21}}{a_{22}} & 0 & \\vdots & -\\frac{a_{2n}}{a_{22}} \\\\\n",
    "\\vdots & \\ddots & \\ddots & \\vdots \\\\\n",
    "-\\frac{a_{n1}}{a_{nn}} & \\cdots & 0 & -\\frac{a_{2n}}{a_{22}} \\\\\n",
    "\\end{bmatrix}, g = \\begin{bmatrix}\n",
    "\\frac{b_1}{a_{11}} \\\\\n",
    "\\frac{b_2}{a_{22}} \\\\\n",
    "\\vdots \\\\\n",
    "\\frac{b_n}{a_{nn}} \\\\\n",
    "\\end{bmatrix}$$\n",
    "\n",
    "Vamos mostrar como obter $x^{(k+1)} = Cx^{(k)} + g$ a partir de $Ax = b$.\n",
    "\n",
    "Seja D uma matriz diagonal, formada pela diagonal de A.\n",
    "\n",
    "$$Ax = b \\iff (A + D - D)x = b \\iff (A - D)x + Dx = b$$\n",
    "\n",
    "Dessa forma,\n",
    "\n",
    "$$ (A - D)x^{(k)} + Dx^{(k+1)} = (D - A)x^{(k)} + b $$\n",
    "\n",
    "Portanto,\n",
    "\n",
    "$$ x^{(k+1)} = \\underbrace{(I - D^{-1}A)}_{C}x^{(k)} + \\underbrace{D^{-1}b}_{g} $$"
   ]
  },
  {
   "cell_type": "code",
   "execution_count": 8,
   "metadata": {},
   "outputs": [],
   "source": [
    "# Resolve o sistema $Ax = b$ pelo método interativo de Gauss-Jacobi e critério de parada do erro relativo\n",
    "def gauss_jacobi_solve(A, b, EPSILON=1e-8):\n",
    "    n = A.shape[0]\n",
    "    x = np.zeros_like(b) # x^{k+1}\n",
    "    _x = np.full(n, 1)   # x^{k}\n",
    "    \n",
    "    D = np.eye(n) * A    \n",
    "    D_i = np.linalg.inv(D)\n",
    "    I = np.eye(n)\n",
    "    \n",
    "    C = I - D_i @ A\n",
    "    g = D_i @ b\n",
    "    \n",
    "    cnt_it = 0\n",
    "    while np.linalg.norm(x - _x)/np.linalg.norm(x) > EPSILON:\n",
    "        _x = x\n",
    "        x = C @ x + g\n",
    "        cnt_it += 1\n",
    "\n",
    "    return x, cnt_it"
   ]
  },
  {
   "cell_type": "markdown",
   "metadata": {},
   "source": [
    "## Método de Gauss-Seidel\n",
    "\n",
    "Tentaremos agora acelerar a convergência do Método de Gauss-Jacobi. No cálculo de $x_i^{(k+1)}$, usaremos os valores já calculados $x_j^{(k+1)}, j < i$ os valores que ainda não foram calculados $x_j^{(k)}, j > i$.\n",
    "\n",
    "\n",
    "$$\\begin{cases}\n",
    "x^{(k+1)}_1 = \\frac{b_1 - a_{12}x^{(k)}_2 - a_{13}x^{(k)}_3 - \\cdots - a_{1n}x^{(k)}_n}{a_{11}} \\\\\n",
    "x^{(k+1)}_2 = \\frac{b_2 - a_{21}x^{(k+1)}_1 - a_{23}x^{(k)}_3 - \\cdots - a_{2n}x^{(k)}_n}{a_{22}} \\\\\n",
    "\\vdots \\\\\n",
    "x^{(k+1)}_n = \\frac{b_n - a_{n1}x^{(k+1)}_1 - a_{n2}x^{(k+1)}_2 - \\cdots - a_{n-1 n-1}x^{(k+1)}_{n-1}}{a_{nn}} \\\\\n",
    "\\end{cases} $$\n",
    "\n",
    "Para obter $x^{(k+1)} = Cx^{(k)} + g$ a partir de $Ax + b$, primeiramente consideremos $A = L + R$, em que $L$ é a matriz triangular inferior de $A$ e $R$ é a matriz triangular superior sem a diagonal principal. Assim:\n",
    "\n",
    "$$Ax = b \\iff (L+R)x = b \\iff Lx + Rx = b$$\n",
    "\n",
    "Dessa forma,\n",
    "$$Lx^{(k+1)} + Rx^{(k)} = b \\iff Lx^{(k+1)} = -Rx^{(k)} + b$$\n",
    "\n",
    "Portanto,\n",
    "\n",
    "$$ x^{(k+1)} = \\underbrace{(-L^{-1}R)}_{C}x^{(k)} + \\underbrace{L^{-1}b}_{g} $$"
   ]
  },
  {
   "cell_type": "code",
   "execution_count": 9,
   "metadata": {},
   "outputs": [],
   "source": [
    "# Resolve o sistema $Ax = b$ pelo método interativo de Gauss-Seidel e critério de parada do erro relativo\n",
    "def gauss_seidel_solve(A, b, EPSILON=1e-8):\n",
    "    n = A.shape[0]\n",
    "    x = np.zeros_like(b) # x^{k+1}\n",
    "    _x = np.full(n, 1)   # x^{k}\n",
    "    \n",
    "    L = np.tril(A)\n",
    "    R = np.triu(A, 1)\n",
    "    \n",
    "    L_i = np.linalg.inv(L)\n",
    "    C = -L_i @ R\n",
    "    g = L_i @ b\n",
    "    \n",
    "    cnt_it = 0\n",
    "    while np.linalg.norm(x - _x)/np.linalg.norm(x) > EPSILON:\n",
    "        _x = x\n",
    "        x = C @ x + g\n",
    "        cnt_it += 1\n",
    "        \n",
    "    return x, cnt_it"
   ]
  },
  {
   "cell_type": "markdown",
   "metadata": {},
   "source": [
    "Com isso, o sistema enunciado também pode ser resolvido pelos métodos interativos de Gauss-Jacobi e Gauss-Seidel:"
   ]
  },
  {
   "cell_type": "code",
   "execution_count": 227,
   "metadata": {},
   "outputs": [],
   "source": [
    "A, b = generate_matrix(100)\n",
    "x_gjacobi, _ = gauss_jacobi_solve(A, b)\n",
    "\n",
    "A, b = generate_matrix(100)\n",
    "x_gseidel_t = gauss_seidel_solve(A, b)"
   ]
  },
  {
   "cell_type": "markdown",
   "metadata": {},
   "source": [
    "### Critério de Parada utilizado\n",
    "\n",
    "O critério de parada utilizado foi o de erro relativo, e convergiu após XXX iterações.\n",
    "\n",
    "### Comparação com o método direto (Cholesky)\n",
    "\n",
    "Em relação ao método direto de Cholesky, ...."
   ]
  },
  {
   "cell_type": "markdown",
   "metadata": {},
   "source": [
    "Pode-se calcular o tempo e a quantidade de iterações levados por cada algoritmo pelos métodos a seguir. Eles realizam a chamada das operações *qtt_repeats* vezes, e calculam o tempo médio de execução."
   ]
  },
  {
   "cell_type": "code",
   "execution_count": 10,
   "metadata": {},
   "outputs": [],
   "source": [
    "# Modificação do timeit para retornar também o retorno da função chamada\n",
    "# no caso, retornara a quantidade de iteracoes realizadas nos metodos de gauss jacobi e gauss seidel\n",
    "# no caso de cholesky, retornara o vetor solucao do sistema (sera ignorado)\n",
    "import timeit\n",
    "timeit.template = \"\"\"\n",
    "def inner(_it, _timer{init}):\n",
    "    {setup}\n",
    "    _t0 = _timer()\n",
    "    for _i in _it:\n",
    "        retval = {stmt}[-1]\n",
    "    _t1 = _timer()\n",
    "    return _t1 - _t0, retval\n",
    "\"\"\"\n",
    "\n",
    "# benchmark do método de cholesky\n",
    "def cholesky_benchmark(n, qtt_repeats=10):\n",
    "    A, b = generate_matrix(n)\n",
    "    t = timeit.Timer(lambda:cholesky_solve(A, b))\n",
    "    time_info = t.timeit(qtt_repeats)\n",
    "    return time_info[0]/qtt_repeats\n",
    "\n",
    "# benchmark do método de gauss jacobi\n",
    "def gauss_jacobi_benchmark(n, qtt_repeats=10):\n",
    "    A, b = generate_matrix(n)\n",
    "    t = timeit.Timer(lambda:gauss_jacobi_solve(A, b))\n",
    "    time_info = t.timeit(qtt_repeats)\n",
    "    return time_info[0]/qtt_repeats, time_info[1]/qtt_repeats\n",
    "\n",
    "# benchmark do método de gauss seidel\n",
    "def gauss_seidel_benchmark(n, qtt_repeats=10):\n",
    "    A, b = generate_matrix(n)\n",
    "    t = timeit.Timer(lambda:gauss_seidel_solve(A, b))\n",
    "    time_info = t.timeit(qtt_repeats)\n",
    "    return time_info[0]/qtt_repeats, time_info[1]/qtt_repeats"
   ]
  },
  {
   "cell_type": "markdown",
   "metadata": {},
   "source": [
    "O tempo levado para resolver o sistema pelo método de Cholesky conforme o $n$ aumenta pode ser observado pelo gráfico abaixo."
   ]
  },
  {
   "cell_type": "code",
   "execution_count": 11,
   "metadata": {},
   "outputs": [],
   "source": [
    "import matplotlib.pyplot as plt"
   ]
  },
  {
   "cell_type": "code",
   "execution_count": 12,
   "metadata": {},
   "outputs": [
    {
     "data": {
      "image/png": "[encoded data removed]",
      "text/plain": [
       "<Figure size 432x288 with 1 Axes>"
      ]
     },
     "metadata": {
      "needs_background": "light"
     },
     "output_type": "display_data"
    }
   ],
   "source": [
    "x = [i for i in range(5, 100)]\n",
    "y = [cholesky_benchmark(i) for i in x]\n",
    "\n",
    "plt.plot(x, y)\n",
    "plt.title(\"Tempo de execução da resolução de sistemas pelo método de Cholesky em relação ao tamanho da matriz\")\n",
    "plt.xlabel(\"Tamanho da matriz\")\n",
    "plt.ylabel(\"Tempo de execução\")\n",
    "plt.show()"
   ]
  },
  {
   "cell_type": "markdown",
   "metadata": {},
   "source": [
    "Análogamente, o tempo de execução em relação ao n pode ser observado nos métodos de Gauss-Jacobi e Gauss-Seidel"
   ]
  },
  {
   "cell_type": "code",
   "execution_count": 13,
   "metadata": {},
   "outputs": [
    {
     "data": {
      "image/png": "[encoded data removed]",
      "text/plain": [
       "<Figure size 432x288 with 1 Axes>"
      ]
     },
     "metadata": {
      "needs_background": "light"
     },
     "output_type": "display_data"
    }
   ],
   "source": [
    "x = [i for i in range(5, 100)]\n",
    "y = [gauss_jacobi_benchmark(i)[0] for i in x]\n",
    "\n",
    "plt.plot(x, y)\n",
    "plt.title(\"Tempo de execução da resolução de sistemas pelo método de Gauss-Jacobi em relação ao tamanho da matriz\")\n",
    "plt.xlabel(\"Tamanho da matriz\")\n",
    "plt.ylabel(\"Tempo de execução\")\n",
    "plt.show()"
   ]
  },
  {
   "cell_type": "code",
   "execution_count": 14,
   "metadata": {},
   "outputs": [
    {
     "data": {
      "image/png": "[encoded data removed]",
      "text/plain": [
       "<Figure size 432x288 with 1 Axes>"
      ]
     },
     "metadata": {
      "needs_background": "light"
     },
     "output_type": "display_data"
    }
   ],
   "source": [
    "x = [i for i in range(5, 100)]\n",
    "y = [gauss_seidel_benchmark(i)[0] for i in x]\n",
    "\n",
    "plt.plot(x, y)\n",
    "plt.title(\"Tempo de execução da resolução de sistemas pelo método de Gauss-Seidel em relação ao tamanho da matriz\")\n",
    "plt.xlabel(\"Tamanho da matriz\")\n",
    "plt.ylabel(\"Tempo de execução\")\n",
    "plt.show()"
   ]
  },
  {
   "cell_type": "markdown",
   "metadata": {},
   "source": [
    "A quantidade de interações também pode ser assim analisada:"
   ]
  },
  {
   "cell_type": "code",
   "execution_count": 15,
   "metadata": {},
   "outputs": [
    {
     "data": {
      "image/png": "[encoded data removed]",
      "text/plain": [
       "<Figure size 432x288 with 1 Axes>"
      ]
     },
     "metadata": {
      "needs_background": "light"
     },
     "output_type": "display_data"
    }
   ],
   "source": [
    "x = [i for i in range(5, 100)]\n",
    "y = [gauss_jacobi_benchmark(i)[1] for i in x]\n",
    "\n",
    "plt.plot(x, y)\n",
    "plt.title(\"Quantidade de interações da resolução de sistemas pelo método de Gauss-Jacobi em relação ao tamanho da matriz\")\n",
    "plt.xlabel(\"Tamanho da matriz\")\n",
    "plt.ylabel(\"Quantidade de interações\")\n",
    "plt.show()"
   ]
  },
  {
   "cell_type": "code",
   "execution_count": 17,
   "metadata": {},
   "outputs": [
    {
     "data": {
      "image/png": "[encoded data removed]",
      "text/plain": [
       "<Figure size 432x288 with 1 Axes>"
      ]
     },
     "metadata": {
      "needs_background": "light"
     },
     "output_type": "display_data"
    }
   ],
   "source": [
    "x = [i for i in range(5, 100)]\n",
    "y = [gauss_seidel_benchmark(i)[1] for i in x]\n",
    "\n",
    "plt.plot(x, y)\n",
    "plt.title(\"Quantidade de interações da resolução de sistemas pelo método de Gauss-Seidel em relação ao tamanho da matriz\")\n",
    "plt.xlabel(\"Tamanho da matriz\")\n",
    "plt.ylabel(\"Quantidade de interações\")\n",
    "plt.show()"
   ]
  },
  {
   "cell_type": "markdown",
   "metadata": {},
   "source": [
    "# Referências\n",
    "\n",
    "Decomposição de Cholesky: http://wwwp.fc.unesp.br/~arbalbo/Iniciacao_Cientifica/sistemaslineares/teoria/3_Met_Cholesky.pdf\n",
    "\n",
    "Teste de matriz simetrica em python: https://stackoverflow.com/questions/42908334/checking-if-a-matrix-is-symmetric-in-numpy"
   ]
  },
  {
   "cell_type": "code",
   "execution_count": null,
   "metadata": {},
   "outputs": [],
   "source": []
  }
 ],
 "metadata": {
  "kernelspec": {
   "display_name": "Python 3",
   "language": "python",
   "name": "python3"
  },
  "language_info": {
   "codemirror_mode": {
    "name": "ipython",
    "version": 3
   },
   "file_extension": ".py",
   "mimetype": "text/x-python",
   "name": "python",
   "nbconvert_exporter": "python",
   "pygments_lexer": "ipython3",
   "version": "3.7.1"
  }
 },
 "nbformat": 4,
 "nbformat_minor": 2
}
